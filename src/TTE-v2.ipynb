{
 "cells": [
  {
   "cell_type": "markdown",
   "metadata": {},
   "source": [
    "# Target Trial Emulation (Data Analysis - Assignment 1: Clustering)\n",
    "---"
   ]
  },
  {
   "cell_type": "markdown",
   "metadata": {},
   "source": [
    "### Step 1: Install TrialEmulation package using R"
   ]
  },
  {
   "cell_type": "code",
   "execution_count": null,
   "metadata": {
    "vscode": {
     "languageId": "plaintext"
    }
   },
   "outputs": [],
   "source": [
    "if (!requireNamespace(\"TrialEmulation\", quietly = TRUE)) {\n",
    "  install.packages(\"TrialEmulation\")\n",
    "}\n",
    "library(TrialEmulation)"
   ]
  },
  {
   "cell_type": "markdown",
   "metadata": {},
   "source": [
    "#### Next, load the package and export it to a .csv file."
   ]
  },
  {
   "cell_type": "code",
   "execution_count": null,
   "metadata": {
    "vscode": {
     "languageId": "plaintext"
    }
   },
   "outputs": [],
   "source": [
    "library(TrialEmulation)\n",
    "\n",
    "data(\"data_censored\")\n",
    "\n",
    "write.csv(data_censored, \"data_censored.csv\", row.names = FALSE)"
   ]
  }
 ],
 "metadata": {
  "language_info": {
   "name": "python"
  }
 },
 "nbformat": 4,
 "nbformat_minor": 2
}
